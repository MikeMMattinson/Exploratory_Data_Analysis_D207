{
 "cells": [
  {
   "cell_type": "markdown",
   "metadata": {},
   "source": [
    "# WGU D207 TASK 1 REV 3 - MATTINSON"
   ]
  },
  {
   "cell_type": "markdown",
   "metadata": {},
   "source": [
    "<p>Student: Mike Mattinson</p>\n",
    "<p>Student ID: 001980761</p>\n",
    "<p>Class: D207 Exploritory Data Analysis</p>\n",
    "<p>School: Western Goverenor's University</p>\n",
    "<p>Date: Jun 1, 2021</p>"
   ]
  },
  {
   "cell_type": "markdown",
   "metadata": {
    "heading_collapsed": true
   },
   "source": [
    "## Abstract"
   ]
  },
  {
   "cell_type": "markdown",
   "metadata": {
    "hidden": true
   },
   "source": [
    "Short description of the assessment."
   ]
  },
  {
   "cell_type": "markdown",
   "metadata": {},
   "source": [
    "## Table of Contents"
   ]
  },
  {
   "cell_type": "markdown",
   "metadata": {},
   "source": []
  },
  {
   "cell_type": "markdown",
   "metadata": {},
   "source": [
    "## List of Tables"
   ]
  },
  {
   "cell_type": "markdown",
   "metadata": {},
   "source": []
  },
  {
   "cell_type": "markdown",
   "metadata": {},
   "source": [
    "## List of Figures"
   ]
  },
  {
   "cell_type": "markdown",
   "metadata": {},
   "source": []
  },
  {
   "cell_type": "markdown",
   "metadata": {},
   "source": [
    "## Imports/Dataframe"
   ]
  },
  {
   "cell_type": "code",
   "execution_count": 1,
   "metadata": {},
   "outputs": [],
   "source": [
    "# import appropriate packages\n",
    "import numpy as np # (NUM21)\n",
    "import pandas as pd # (PAN21)\n",
    "import matplotlib.pyplot as plt # (MAT21)\n",
    "%matplotlib inline\n",
    "from sklearn import preprocessing\n",
    "import seaborn as sns\n",
    "from sklearn.decomposition import PCA\n",
    "import scipy.stats as stats # (SCI21)\n",
    "from scipy.stats import chi2_contingency\n",
    "from scipy.stats import chi2\n",
    "from IPython.display import Latex"
   ]
  },
  {
   "cell_type": "code",
   "execution_count": 109,
   "metadata": {
    "scrolled": true
   },
   "outputs": [
    {
     "data": {
      "text/html": [
       "<div>\n",
       "<style scoped>\n",
       "    .dataframe tbody tr th:only-of-type {\n",
       "        vertical-align: middle;\n",
       "    }\n",
       "\n",
       "    .dataframe tbody tr th {\n",
       "        vertical-align: top;\n",
       "    }\n",
       "\n",
       "    .dataframe thead th {\n",
       "        text-align: right;\n",
       "    }\n",
       "</style>\n",
       "<table border=\"1\" class=\"dataframe\">\n",
       "  <thead>\n",
       "    <tr style=\"text-align: right;\">\n",
       "      <th></th>\n",
       "      <th>Customer_id</th>\n",
       "      <th>City</th>\n",
       "      <th>Churn</th>\n",
       "    </tr>\n",
       "  </thead>\n",
       "  <tbody>\n",
       "    <tr>\n",
       "      <th>0</th>\n",
       "      <td>K409198</td>\n",
       "      <td>Point Baker</td>\n",
       "      <td>No</td>\n",
       "    </tr>\n",
       "    <tr>\n",
       "      <th>1</th>\n",
       "      <td>S120509</td>\n",
       "      <td>West Branch</td>\n",
       "      <td>Yes</td>\n",
       "    </tr>\n",
       "    <tr>\n",
       "      <th>2</th>\n",
       "      <td>K191035</td>\n",
       "      <td>Yamhill</td>\n",
       "      <td>No</td>\n",
       "    </tr>\n",
       "    <tr>\n",
       "      <th>3</th>\n",
       "      <td>D90850</td>\n",
       "      <td>Del Mar</td>\n",
       "      <td>No</td>\n",
       "    </tr>\n",
       "  </tbody>\n",
       "</table>\n",
       "</div>"
      ],
      "text/plain": [
       "  Customer_id         City Churn\n",
       "0     K409198  Point Baker    No\n",
       "1     S120509  West Branch   Yes\n",
       "2     K191035      Yamhill    No\n",
       "3      D90850      Del Mar    No"
      ]
     },
     "execution_count": 109,
     "metadata": {},
     "output_type": "execute_result"
    }
   ],
   "source": [
    "# create dataframe\n",
    "df = pd.read_csv('data\\churn_clean.csv')\n",
    "df[['Customer_id','City','Churn']].head(4)"
   ]
  },
  {
   "cell_type": "markdown",
   "metadata": {},
   "source": [
    "<P class=\"mytable\" data-title=\"Initial Clean Dataframe\" data-summary=\"Use pandas to create dataframe from CHURN_CLEAN_CSV file. The file has 10,000 rows with 50 attributes. This table is showing a subset of the total dataframe, showing two attributes (Customer_id, City and Churn) and only the first 4 rows of data.\">"
   ]
  },
  {
   "cell_type": "markdown",
   "metadata": {},
   "source": [
    "## Custom Styles"
   ]
  },
  {
   "cell_type": "code",
   "execution_count": 3,
   "metadata": {},
   "outputs": [
    {
     "name": "stdout",
     "output_type": "stream",
     "text": [
      "styles\\custom_2.css custom styles applied\n"
     ]
    },
    {
     "data": {
      "text/html": [
       "<style>\n",
       "\n",
       "\n",
       "body {\n",
       "    counter-reset: h2 figures tables;\n",
       "}\n",
       "\n",
       "\n",
       "h1 {\n",
       "    \n",
       "    margin: 0 0 0 0;\n",
       "    font-family: 'Times New Roman', serif;\n",
       "    font-size: 40px;\n",
       "    padding: 5px;\n",
       "    text-transform: uppercase;\n",
       "    letter-spacing: 5px;\n",
       "    color: #000000;\n",
       "\n",
       "}\n",
       "\n",
       "h2 {\n",
       "    counter-increment: h2;\n",
       "    margin: 0 0 0 0;\n",
       "    font-family: 'Times New Roman', serif;\n",
       "    font-size: 40px;\n",
       "    padding: 5px;\n",
       "    text-transform: uppercase;\n",
       "    letter-spacing: 5px;\n",
       "    color: #000000;\n",
       "    background: inherit;\n",
       "}\n",
       "\n",
       "\n",
       "h3 {\n",
       "    counter-increment: h3;\n",
       "    counter-reset:  figures tables;\n",
       "    margin: 0 0 0 0;\n",
       "    font-family: 'Times New Roman', serif;\n",
       "    font-size: 30px;\n",
       "    padding: 5px;\n",
       "    text-transform: uppercase;\n",
       "    letter-spacing: 5px;\n",
       "    color: #000000;\n",
       "    background: inherit;\n",
       "}\n",
       "\n",
       "\n",
       ".myfigure {\n",
       "    counter-increment: figures;\n",
       "    float: center;\n",
       "    width: 80%;\n",
       "    text-align: left;\n",
       "    font-style: italic;\n",
       "    font-size: 23px;\n",
       "    text-indent: 0;\n",
       "    margin: 0.5em;\n",
       "    padding: 0.5em;\n",
       "}\n",
       "\n",
       ".myfigure::before {\n",
       "    content: \"Figure \" counter(h2) \"-\" counter(figures) \".\";\n",
       "    font-weight: 700;\n",
       "    text-transform: uppercase;\n",
       "    letter-spacing: 2px;\n",
       "    font-size: 0.8em;\n",
       "    padding: .2em;\n",
       "    text-align: center;\n",
       "    color: #fff;\n",
       "    background: #0000ff;\n",
       "}\n",
       "\n",
       ".myfigure::after {\n",
       "    content: attr(data-title) \". \" attr(data-summary);\n",
       "}\n",
       "\n",
       ".mytable {\n",
       "    counter-increment: tables;\n",
       "    float: center;\n",
       "    width: 80%;\n",
       "    text-align: left;\n",
       "    font-style: italic;\n",
       "    font-size: 23px;\n",
       "    text-indent: 0;\n",
       "    margin: 0.5em;\n",
       "    padding: 0.5em;\n",
       "}\n",
       "\n",
       ".mytable::before {\n",
       "    content: \"Table \" counter(h2) \"-\" counter(tables) \".\";\n",
       "    font-weight: 700;\n",
       "    text-transform: uppercase;\n",
       "    letter-spacing: 2px;\n",
       "    font-size: 0.8em;\n",
       "    padding: .2em;\n",
       "    text-align: center;\n",
       "    color: #fff;\n",
       "    background: #006600;\n",
       "}\n",
       "\n",
       ".mytable::after {\n",
       "    content: attr(data-title) \". \" attr(data-summary);\n",
       "}\n",
       "\n",
       "\n",
       ".quote {\n",
       "    padding: 10px;\n",
       "    border: 1px groove gray;\n",
       "    background-color: rgb(219, 214, 214);\n",
       "}\n",
       "\n",
       "\n",
       "p {\n",
       "    font-family: 'Times New Roman', serif;\n",
       "    font-size: 14px;\n",
       "    line-height: 1.1;\n",
       "    color: #000000;\n",
       "}\n",
       "\n",
       "\n",
       ".apa {\n",
       "    padding-left: 4em;\n",
       "    text-indent: -4em;\n",
       "    background: powderblue;\n",
       "    font-size: 140%;\n",
       "    line-height: 2.0;\n",
       "}\n",
       "\n",
       "\n",
       ".code {\n",
       "    padding-left: 4em;\n",
       "    text-indent: -4em;\n",
       "    background: #E6EFFA;\n",
       "    font-family: 'Lucida Console';\n",
       "    font-size: 100%;\n",
       "    line-height: 1.0;\n",
       "}\n",
       "\n",
       ".rubric {\n",
       "  font-size: 1.5em;\n",
       "  padding: 20px;\n",
       "  border-left-width: 10px;\n",
       "  border-left-style: solid;\n",
       "  border-left-color: green;\n",
       "}\n",
       "\n",
       ".step {\n",
       "\n",
       "}\n",
       "\n",
       ".step::before {\n",
       "    content: \"Step \" attr(data-inc) \". \";\n",
       "    font-size: 20px;\n",
       "    font-weight: bold;\n",
       "    color: #C0392B;\n",
       "}\n",
       "\n",
       ".step::after {\n",
       "    content: attr(data-step);\n",
       "}\n",
       "\n",
       "</style>"
      ],
      "text/plain": [
       "<IPython.core.display.HTML object>"
      ]
     },
     "execution_count": 3,
     "metadata": {},
     "output_type": "execute_result"
    }
   ],
   "source": [
    "# use custom css to style notebook (STO21)\n",
    "from IPython.core.display import HTML\n",
    "def css_styling(f):\n",
    "    styles = open( f, \"r\").read()\n",
    "    print('{} custom styles applied'.format( f ))\n",
    "    return HTML(styles)\n",
    "css_styling( 'styles\\\\custom_2.css' )"
   ]
  },
  {
   "cell_type": "code",
   "execution_count": 4,
   "metadata": {},
   "outputs": [
    {
     "data": {
      "text/html": [
       "<style type=\"text/css\">\n",
       "table.dataframe td, table.dataframe th {\n",
       "    border-style: solid;\n",
       "}\n"
      ],
      "text/plain": [
       "<IPython.core.display.HTML object>"
      ]
     },
     "metadata": {},
     "output_type": "display_data"
    }
   ],
   "source": [
    "%%HTML\n",
    "<style type=\"text/css\">\n",
    "table.dataframe td, table.dataframe th {\n",
    "    border-style: solid;\n",
    "}"
   ]
  },
  {
   "cell_type": "markdown",
   "metadata": {},
   "source": [
    "## Organizational Problem Statement"
   ]
  },
  {
   "cell_type": "markdown",
   "metadata": {},
   "source": [
    "Help organization determine which variables from the data are related to the target variable of 'Churn'."
   ]
  },
  {
   "cell_type": "markdown",
   "metadata": {},
   "source": [
    "## Univariate Statistics"
   ]
  },
  {
   "cell_type": "code",
   "execution_count": 33,
   "metadata": {},
   "outputs": [
    {
     "name": "stdout",
     "output_type": "stream",
     "text": [
      "show distribution of numerical variables\n"
     ]
    },
    {
     "data": {
      "image/png": "[encoded data removed]",
      "text/plain": [
       "<Figure size 432x288 with 4 Axes>"
      ]
     },
     "metadata": {
      "needs_background": "light"
     },
     "output_type": "display_data"
    }
   ],
   "source": [
    "# show distribution for two numeric variables\n",
    "df[['MonthlyCharge', 'Bandwidth_GB_Year','Tenure','Income']].hist()\n",
    "print('show distribution of numerical variables')"
   ]
  },
  {
   "cell_type": "code",
   "execution_count": 84,
   "metadata": {
    "scrolled": true
   },
   "outputs": [
    {
     "name": "stdout",
     "output_type": "stream",
     "text": [
      "show distribution of categorical variables\n"
     ]
    },
    {
     "data": {
      "image/png": "[encoded data removed]",
      "text/plain": [
       "<Figure size 432x288 with 3 Axes>"
      ]
     },
     "metadata": {
      "needs_background": "light"
     },
     "output_type": "display_data"
    }
   ],
   "source": [
    "# show distribution of two categorical variables\n",
    "# https://stackoverflow.com/questions/61000529/multiple-count-plots-in-seaborn\n",
    "fig, ax = plt.subplots(3,1)\n",
    "plt.subplots_adjust(hspace=0.9)\n",
    "sns.countplot(y='Gender', data=df, ax=ax[0])\n",
    "sns.countplot(y='Churn', data=df, ax=ax[1])\n",
    "sns.countplot(y='InternetService', data=df, ax=ax[2])\n",
    "print('show distribution of categorical variables')"
   ]
  },
  {
   "cell_type": "markdown",
   "metadata": {},
   "source": [
    "## Bivariate Statistics "
   ]
  },
  {
   "cell_type": "markdown",
   "metadata": {},
   "source": [
    "### Churn/MonthlyCharge"
   ]
  },
  {
   "cell_type": "markdown",
   "metadata": {},
   "source": [
    "First plot is a histogram with target overlayed. The target is the categorical variable 'Churn'. The predicator is the numeric value 'MonthlyCharge'. The numeric values are grouped into 5 bins. Labels and lines are added to help interpret results. "
   ]
  },
  {
   "cell_type": "code",
   "execution_count": 7,
   "metadata": {},
   "outputs": [
    {
     "data": {
      "image/png": "[encoded data removed]",
      "text/plain": [
       "<Figure size 432x432 with 1 Axes>"
      ]
     },
     "metadata": {
      "needs_background": "light"
     },
     "output_type": "display_data"
    }
   ],
   "source": [
    "# create histogram with target overlay\n",
    "predictor = 'MonthlyCharge'\n",
    "df_yes = df[df.Churn==\"Yes\"][predictor];\n",
    "df_no = df[df.Churn==\"No\"][predictor]\n",
    "yes_mean = df_yes.mean();\n",
    "no_mean = df_no.mean(); \n",
    "fig,ax = plt.subplots(figsize=(6,6))\n",
    "ax.hist([df_yes,df_no], bins=5, stacked=True)\n",
    "ax.legend(['Churn - Yes','Churn - No'])\n",
    "ymin, ymax = ax.get_ylim();\n",
    "xmin, xmax = ax.get_xlim()\n",
    "ax.axvline(yes_mean, color='blue', lw=2) # yes mean\n",
    "ax.axvline(no_mean, color='orangered', lw=2) # no mean\n",
    "ax.text((xmax-xmin)/2,\n",
    "        (ymax-ymin)/2,\n",
    "        'Delta:\\n' + str(round(abs(yes_mean - no_mean),2)),\n",
    "        bbox={'facecolor':'white'})\n",
    "plt.title('Histogram with target overlay by ' + str(predictor))\n",
    "plt.xlabel(predictor); \n",
    "plt.ylabel('# Churn');\n",
    "plt.show();"
   ]
  },
  {
   "cell_type": "markdown",
   "metadata": {},
   "source": [
    "<P class=\"myfigure\" data-title=\"Histogram with Target Overlay plotted against the given predictor\" data-summary=\"Vertical lines show the mean values for the two datasets. Notice the difference between groups.\">"
   ]
  },
  {
   "cell_type": "markdown",
   "metadata": {},
   "source": [
    "## Chi-Squared Test"
   ]
  },
  {
   "cell_type": "markdown",
   "metadata": {},
   "source": [
    "### 1st test - Churn/MonthlyCharge"
   ]
  },
  {
   "cell_type": "markdown",
   "metadata": {},
   "source": [
    "During the process of cleaning the data and from the bivariate statistics sections above, it should be clear that the numerical value of 'MonthlyCharge' is related to the target variable of 'Churn'. The following section will conduct a chi-squared test to determine if the two variables are dependent. If so, further investigation will be necessary."
   ]
  },
  {
   "cell_type": "markdown",
   "metadata": {},
   "source": [
    "<p class ='step' data-inc=\"1\" data-step=\"Define data and calculate Chi2\">"
   ]
  },
  {
   "cell_type": "code",
   "execution_count": 57,
   "metadata": {},
   "outputs": [],
   "source": [
    "# Chi-square test of independence using the contingency data (CHI21)\n",
    "mc_groups =pd.cut(df['MonthlyCharge'], bins=5)\n",
    "contingency= pd.crosstab(df['Churn'], mc_groups) \n",
    "stat, p, dof, expected = chi2_contingency(contingency)"
   ]
  },
  {
   "cell_type": "markdown",
   "metadata": {},
   "source": [
    "<p class ='step' data-inc=\"2\" data-step=\"Setup hypothosis and level of significance\">"
   ]
  },
  {
   "cell_type": "markdown",
   "metadata": {},
   "source": [
    "Null Hypothesis: $ H_0$: Churn and Monthly Charge are independent"
   ]
  },
  {
   "cell_type": "markdown",
   "metadata": {},
   "source": [
    "Alternate Hypothesis: $ H_A$: Churn and Monthly Charge are dependent"
   ]
  },
  {
   "cell_type": "code",
   "execution_count": 58,
   "metadata": {},
   "outputs": [],
   "source": [
    "alpha = .001 # level of significance"
   ]
  },
  {
   "cell_type": "markdown",
   "metadata": {},
   "source": [
    "<p class ='step' data-inc=\"3\" data-step=\"Select test statistic\">"
   ]
  },
  {
   "cell_type": "markdown",
   "metadata": {},
   "source": [
    "Chi-squared: \\begin{equation}\n",
    "{\\chi}^2=\n",
    "\\sum{\n",
    "    \\frac{\n",
    "        {\\left( \n",
    "            {O}-{E}\n",
    "        \\right)}^2\n",
    "        }\n",
    "        {E}\n",
    "}\n",
    "\\end{equation}"
   ]
  },
  {
   "cell_type": "markdown",
   "metadata": {},
   "source": [
    "<p class ='step' data-inc=\"4\" data-step=\"Setup test criteria\">"
   ]
  },
  {
   "cell_type": "code",
   "execution_count": 59,
   "metadata": {},
   "outputs": [],
   "source": [
    "# dof = degrees of freedome = (rows-1)(cols-1)\n",
    "prob = 1 - alpha # significance level"
   ]
  },
  {
   "cell_type": "code",
   "execution_count": 108,
   "metadata": {},
   "outputs": [
    {
     "data": {
      "text/html": [
       "<style  type=\"text/css\" >\n",
       "#T_ea6dab9b_caa1_11eb_8656_c802bc19daadrow0_col0{\n",
       "            background-color :  yellow;\n",
       "        }</style><table id=\"T_ea6dab9b_caa1_11eb_8656_c802bc19daad\" ><thead>    <tr>        <th class=\"blank level0\" ></th>        <th class=\"col_heading level0 col0\" >0.90</th>        <th class=\"col_heading level0 col1\" >0.95</th>        <th class=\"col_heading level0 col2\" >0.975</th>        <th class=\"col_heading level0 col3\" >0.99</th>        <th class=\"col_heading level0 col4\" >0.999</th>    </tr></thead><tbody>\n",
       "                <tr>\n",
       "                        <th id=\"T_ea6dab9b_caa1_11eb_8656_c802bc19daadlevel0_row0\" class=\"row_heading level0 row0\" >1</th>\n",
       "                        <td id=\"T_ea6dab9b_caa1_11eb_8656_c802bc19daadrow0_col0\" class=\"data row0 col0\" >2.705543</td>\n",
       "                        <td id=\"T_ea6dab9b_caa1_11eb_8656_c802bc19daadrow0_col1\" class=\"data row0 col1\" >3.841459</td>\n",
       "                        <td id=\"T_ea6dab9b_caa1_11eb_8656_c802bc19daadrow0_col2\" class=\"data row0 col2\" >5.023886</td>\n",
       "                        <td id=\"T_ea6dab9b_caa1_11eb_8656_c802bc19daadrow0_col3\" class=\"data row0 col3\" >6.634897</td>\n",
       "                        <td id=\"T_ea6dab9b_caa1_11eb_8656_c802bc19daadrow0_col4\" class=\"data row0 col4\" >10.827566</td>\n",
       "            </tr>\n",
       "            <tr>\n",
       "                        <th id=\"T_ea6dab9b_caa1_11eb_8656_c802bc19daadlevel0_row1\" class=\"row_heading level0 row1\" >2</th>\n",
       "                        <td id=\"T_ea6dab9b_caa1_11eb_8656_c802bc19daadrow1_col0\" class=\"data row1 col0\" >4.605170</td>\n",
       "                        <td id=\"T_ea6dab9b_caa1_11eb_8656_c802bc19daadrow1_col1\" class=\"data row1 col1\" >5.991465</td>\n",
       "                        <td id=\"T_ea6dab9b_caa1_11eb_8656_c802bc19daadrow1_col2\" class=\"data row1 col2\" >7.377759</td>\n",
       "                        <td id=\"T_ea6dab9b_caa1_11eb_8656_c802bc19daadrow1_col3\" class=\"data row1 col3\" >9.210340</td>\n",
       "                        <td id=\"T_ea6dab9b_caa1_11eb_8656_c802bc19daadrow1_col4\" class=\"data row1 col4\" >13.815511</td>\n",
       "            </tr>\n",
       "            <tr>\n",
       "                        <th id=\"T_ea6dab9b_caa1_11eb_8656_c802bc19daadlevel0_row2\" class=\"row_heading level0 row2\" >3</th>\n",
       "                        <td id=\"T_ea6dab9b_caa1_11eb_8656_c802bc19daadrow2_col0\" class=\"data row2 col0\" >6.251389</td>\n",
       "                        <td id=\"T_ea6dab9b_caa1_11eb_8656_c802bc19daadrow2_col1\" class=\"data row2 col1\" >7.814728</td>\n",
       "                        <td id=\"T_ea6dab9b_caa1_11eb_8656_c802bc19daadrow2_col2\" class=\"data row2 col2\" >9.348404</td>\n",
       "                        <td id=\"T_ea6dab9b_caa1_11eb_8656_c802bc19daadrow2_col3\" class=\"data row2 col3\" >11.344867</td>\n",
       "                        <td id=\"T_ea6dab9b_caa1_11eb_8656_c802bc19daadrow2_col4\" class=\"data row2 col4\" >16.266236</td>\n",
       "            </tr>\n",
       "            <tr>\n",
       "                        <th id=\"T_ea6dab9b_caa1_11eb_8656_c802bc19daadlevel0_row3\" class=\"row_heading level0 row3\" >4</th>\n",
       "                        <td id=\"T_ea6dab9b_caa1_11eb_8656_c802bc19daadrow3_col0\" class=\"data row3 col0\" >7.779440</td>\n",
       "                        <td id=\"T_ea6dab9b_caa1_11eb_8656_c802bc19daadrow3_col1\" class=\"data row3 col1\" >9.487729</td>\n",
       "                        <td id=\"T_ea6dab9b_caa1_11eb_8656_c802bc19daadrow3_col2\" class=\"data row3 col2\" >11.143287</td>\n",
       "                        <td id=\"T_ea6dab9b_caa1_11eb_8656_c802bc19daadrow3_col3\" class=\"data row3 col3\" >13.276704</td>\n",
       "                        <td id=\"T_ea6dab9b_caa1_11eb_8656_c802bc19daadrow3_col4\" class=\"data row3 col4\" >18.466827</td>\n",
       "            </tr>\n",
       "            <tr>\n",
       "                        <th id=\"T_ea6dab9b_caa1_11eb_8656_c802bc19daadlevel0_row4\" class=\"row_heading level0 row4\" >5</th>\n",
       "                        <td id=\"T_ea6dab9b_caa1_11eb_8656_c802bc19daadrow4_col0\" class=\"data row4 col0\" >9.236357</td>\n",
       "                        <td id=\"T_ea6dab9b_caa1_11eb_8656_c802bc19daadrow4_col1\" class=\"data row4 col1\" >11.070498</td>\n",
       "                        <td id=\"T_ea6dab9b_caa1_11eb_8656_c802bc19daadrow4_col2\" class=\"data row4 col2\" >12.832502</td>\n",
       "                        <td id=\"T_ea6dab9b_caa1_11eb_8656_c802bc19daadrow4_col3\" class=\"data row4 col3\" >15.086272</td>\n",
       "                        <td id=\"T_ea6dab9b_caa1_11eb_8656_c802bc19daadrow4_col4\" class=\"data row4 col4\" >20.515006</td>\n",
       "            </tr>\n",
       "    </tbody></table>"
      ],
      "text/plain": [
       "<pandas.io.formats.style.Styler at 0x1fe4631e0a0>"
      ]
     },
     "execution_count": 108,
     "metadata": {},
     "output_type": "execute_result"
    }
   ],
   "source": [
    "# create a chi-squared distribution table for selected values\n",
    "chi = pd.DataFrame(1.212, index=[1,2,3,4,5], \n",
    "    columns=['0.90','0.95','0.975','0.99','0.999'])\n",
    "for i in range(1,6):\n",
    "    chi['0.90'][i] = chi2.ppf(0.90, i)\n",
    "    chi['0.95'][i] = chi2.ppf(0.95, i)\n",
    "    chi['0.975'][i] = chi2.ppf(0.975, i)\n",
    "    chi['0.99'][i] = chi2.ppf(0.99, i)\n",
    "    chi['0.999'][i] = chi2.ppf(0.999, i)\n",
    "critical = chi2.ppf(prob, dof)\n",
    "chi.style.applymap(lambda x: 'background-color : yellow' \n",
    "    if x==critical else '')"
   ]
  },
  {
   "cell_type": "markdown",
   "metadata": {},
   "source": [
    "<P class=\"mytable\" data-title=\"Upper-tail critical values of chi-squared distribution\" data-summary=\"Table created from scipy.stats chi2 package. Cols are the probability, rows are the degrees of freedom. The critical value is highlighted for reference. (CHI21)\">"
   ]
  },
  {
   "cell_type": "code",
   "execution_count": 61,
   "metadata": {},
   "outputs": [
    {
     "data": {
      "text/latex": [
       "\\begin{equation*}\n",
       "Reject H_0 \\longleftrightarrow \\chi^2 \\geqslant {18.46682695290317}\n",
       "\\end{equation*}\n"
      ],
      "text/plain": [
       "<IPython.core.display.Latex object>"
      ]
     },
     "execution_count": 61,
     "metadata": {},
     "output_type": "execute_result"
    }
   ],
   "source": [
    "# Reject Null Hypothesis based on Chi2 critical value\n",
    "Latex(f\"\"\"\\\\begin{{equation*}}\n",
    "Reject H_0 \\\\longleftrightarrow \\\\chi^2 \\\\geqslant {{{critical}}}\n",
    "\\\\end{{equation*}}\n",
    "\"\"\")"
   ]
  },
  {
   "cell_type": "markdown",
   "metadata": {},
   "source": [
    "<p class ='step' data-inc=\"4\" data-step=\"Interpret test results\">"
   ]
  },
  {
   "cell_type": "code",
   "execution_count": 62,
   "metadata": {},
   "outputs": [
    {
     "name": "stdout",
     "output_type": "stream",
     "text": [
      "probability=0.999, critical=18.467, stat=1319.582\n",
      "stat >= critical, therefore, variables are dependent, reject H0\n"
     ]
    }
   ],
   "source": [
    "# interpret test-statistic\n",
    "print('probability=%.3f, critical=%.3f, stat=%.3f' % (prob, critical, stat))\n",
    "if abs(stat) >= critical:\n",
    "    print('stat >= critical, therefore, variables are dependent, reject H0')\n",
    "else:\n",
    "    print('stat < critical, therefore, variables are independent, fail to reject H0')"
   ]
  },
  {
   "cell_type": "code",
   "execution_count": 63,
   "metadata": {},
   "outputs": [
    {
     "name": "stdout",
     "output_type": "stream",
     "text": [
      "significance=0.001, p=0.000\n",
      "p <= alpha, therefore, variables are dependent, reject H0\n"
     ]
    }
   ],
   "source": [
    "# interpret p-value\n",
    "print('significance=%.3f, p=%.3f' % (alpha, p))\n",
    "if p <= alpha:\n",
    "    print('p <= alpha, therefore, variables are dependent, reject H0')\n",
    "else:\n",
    "    print('p > alpha, therefore, variables are independent, fail to reject H0')"
   ]
  },
  {
   "cell_type": "markdown",
   "metadata": {},
   "source": [
    "<p class ='step' data-inc=\"5\" data-step=\"Conclusion\">"
   ]
  },
  {
   "cell_type": "markdown",
   "metadata": {},
   "source": [
    "Reject null hypothesis (H0) and conduct further research to determine extent of the dependent relationship between Churn and MonthlyCharge."
   ]
  },
  {
   "cell_type": "markdown",
   "metadata": {},
   "source": [
    "### 2nd test - Churn/Tenure"
   ]
  },
  {
   "cell_type": "markdown",
   "metadata": {},
   "source": [
    "During the process of cleaning the data and from the bivariate statistics sections above, it should be clear that the numerical value of 'Tenure' is related to the target variable of 'Churn'. The following section will conduct a chi-squared test to determine if the two variables are dependent. If so, further investigation will be necessary."
   ]
  },
  {
   "cell_type": "markdown",
   "metadata": {},
   "source": [
    "<p class ='step' data-inc=\"1\" data-step=\"Define data and calculate Chi2\">"
   ]
  },
  {
   "cell_type": "code",
   "execution_count": 64,
   "metadata": {},
   "outputs": [],
   "source": [
    "# Chi-square test of independence using the contingency data (CHI21)\n",
    "mc_groups =pd.cut(df['Tenure'], bins=5)\n",
    "contingency= pd.crosstab(df['Churn'], mc_groups) \n",
    "stat, p, dof, expected = chi2_contingency(contingency)"
   ]
  },
  {
   "cell_type": "markdown",
   "metadata": {},
   "source": [
    "<p class ='step' data-inc=\"2\" data-step=\"Setup hypothosis and level of significance\">"
   ]
  },
  {
   "cell_type": "markdown",
   "metadata": {},
   "source": [
    "Null Hypothesis: $ H_0$: Churn and Tenure are independent"
   ]
  },
  {
   "cell_type": "markdown",
   "metadata": {},
   "source": [
    "Alternate Hypothesis: $ H_A$: Churn and Tenure are dependent"
   ]
  },
  {
   "cell_type": "code",
   "execution_count": 65,
   "metadata": {},
   "outputs": [],
   "source": [
    "alpha = .001 # level of significance"
   ]
  },
  {
   "cell_type": "markdown",
   "metadata": {},
   "source": [
    "<p class ='step' data-inc=\"3\" data-step=\"Select test statistic\">"
   ]
  },
  {
   "cell_type": "markdown",
   "metadata": {},
   "source": [
    "Chi-squared: \\begin{equation}\n",
    "{\\chi}^2=\n",
    "\\sum{\n",
    "    \\frac{\n",
    "        {\\left( \n",
    "            {O}-{E}\n",
    "        \\right)}^2\n",
    "        }\n",
    "        {E}\n",
    "}\n",
    "\\end{equation}"
   ]
  },
  {
   "cell_type": "markdown",
   "metadata": {},
   "source": [
    "<p class ='step' data-inc=\"4\" data-step=\"Setup test criteria\">"
   ]
  },
  {
   "cell_type": "code",
   "execution_count": 66,
   "metadata": {},
   "outputs": [],
   "source": [
    "# dof = degrees of freedome = (rows-1)(cols-1)\n",
    "prob = 1 - alpha # significance level"
   ]
  },
  {
   "cell_type": "code",
   "execution_count": 67,
   "metadata": {},
   "outputs": [
    {
     "data": {
      "text/html": [
       "<style  type=\"text/css\" >\n",
       "#T_54990a36_ca9e_11eb_849d_c802bc19daadrow3_col4{\n",
       "            background-color :  yellow;\n",
       "        }</style><table id=\"T_54990a36_ca9e_11eb_849d_c802bc19daad\" ><thead>    <tr>        <th class=\"blank level0\" ></th>        <th class=\"col_heading level0 col0\" >0.90</th>        <th class=\"col_heading level0 col1\" >0.95</th>        <th class=\"col_heading level0 col2\" >0.975</th>        <th class=\"col_heading level0 col3\" >0.99</th>        <th class=\"col_heading level0 col4\" >0.999</th>    </tr></thead><tbody>\n",
       "                <tr>\n",
       "                        <th id=\"T_54990a36_ca9e_11eb_849d_c802bc19daadlevel0_row0\" class=\"row_heading level0 row0\" >1</th>\n",
       "                        <td id=\"T_54990a36_ca9e_11eb_849d_c802bc19daadrow0_col0\" class=\"data row0 col0\" >2.705543</td>\n",
       "                        <td id=\"T_54990a36_ca9e_11eb_849d_c802bc19daadrow0_col1\" class=\"data row0 col1\" >3.841459</td>\n",
       "                        <td id=\"T_54990a36_ca9e_11eb_849d_c802bc19daadrow0_col2\" class=\"data row0 col2\" >5.023886</td>\n",
       "                        <td id=\"T_54990a36_ca9e_11eb_849d_c802bc19daadrow0_col3\" class=\"data row0 col3\" >6.634897</td>\n",
       "                        <td id=\"T_54990a36_ca9e_11eb_849d_c802bc19daadrow0_col4\" class=\"data row0 col4\" >10.827566</td>\n",
       "            </tr>\n",
       "            <tr>\n",
       "                        <th id=\"T_54990a36_ca9e_11eb_849d_c802bc19daadlevel0_row1\" class=\"row_heading level0 row1\" >2</th>\n",
       "                        <td id=\"T_54990a36_ca9e_11eb_849d_c802bc19daadrow1_col0\" class=\"data row1 col0\" >4.605170</td>\n",
       "                        <td id=\"T_54990a36_ca9e_11eb_849d_c802bc19daadrow1_col1\" class=\"data row1 col1\" >5.991465</td>\n",
       "                        <td id=\"T_54990a36_ca9e_11eb_849d_c802bc19daadrow1_col2\" class=\"data row1 col2\" >7.377759</td>\n",
       "                        <td id=\"T_54990a36_ca9e_11eb_849d_c802bc19daadrow1_col3\" class=\"data row1 col3\" >9.210340</td>\n",
       "                        <td id=\"T_54990a36_ca9e_11eb_849d_c802bc19daadrow1_col4\" class=\"data row1 col4\" >13.815511</td>\n",
       "            </tr>\n",
       "            <tr>\n",
       "                        <th id=\"T_54990a36_ca9e_11eb_849d_c802bc19daadlevel0_row2\" class=\"row_heading level0 row2\" >3</th>\n",
       "                        <td id=\"T_54990a36_ca9e_11eb_849d_c802bc19daadrow2_col0\" class=\"data row2 col0\" >6.251389</td>\n",
       "                        <td id=\"T_54990a36_ca9e_11eb_849d_c802bc19daadrow2_col1\" class=\"data row2 col1\" >7.814728</td>\n",
       "                        <td id=\"T_54990a36_ca9e_11eb_849d_c802bc19daadrow2_col2\" class=\"data row2 col2\" >9.348404</td>\n",
       "                        <td id=\"T_54990a36_ca9e_11eb_849d_c802bc19daadrow2_col3\" class=\"data row2 col3\" >11.344867</td>\n",
       "                        <td id=\"T_54990a36_ca9e_11eb_849d_c802bc19daadrow2_col4\" class=\"data row2 col4\" >16.266236</td>\n",
       "            </tr>\n",
       "            <tr>\n",
       "                        <th id=\"T_54990a36_ca9e_11eb_849d_c802bc19daadlevel0_row3\" class=\"row_heading level0 row3\" >4</th>\n",
       "                        <td id=\"T_54990a36_ca9e_11eb_849d_c802bc19daadrow3_col0\" class=\"data row3 col0\" >7.779440</td>\n",
       "                        <td id=\"T_54990a36_ca9e_11eb_849d_c802bc19daadrow3_col1\" class=\"data row3 col1\" >9.487729</td>\n",
       "                        <td id=\"T_54990a36_ca9e_11eb_849d_c802bc19daadrow3_col2\" class=\"data row3 col2\" >11.143287</td>\n",
       "                        <td id=\"T_54990a36_ca9e_11eb_849d_c802bc19daadrow3_col3\" class=\"data row3 col3\" >13.276704</td>\n",
       "                        <td id=\"T_54990a36_ca9e_11eb_849d_c802bc19daadrow3_col4\" class=\"data row3 col4\" >18.466827</td>\n",
       "            </tr>\n",
       "            <tr>\n",
       "                        <th id=\"T_54990a36_ca9e_11eb_849d_c802bc19daadlevel0_row4\" class=\"row_heading level0 row4\" >5</th>\n",
       "                        <td id=\"T_54990a36_ca9e_11eb_849d_c802bc19daadrow4_col0\" class=\"data row4 col0\" >9.236357</td>\n",
       "                        <td id=\"T_54990a36_ca9e_11eb_849d_c802bc19daadrow4_col1\" class=\"data row4 col1\" >11.070498</td>\n",
       "                        <td id=\"T_54990a36_ca9e_11eb_849d_c802bc19daadrow4_col2\" class=\"data row4 col2\" >12.832502</td>\n",
       "                        <td id=\"T_54990a36_ca9e_11eb_849d_c802bc19daadrow4_col3\" class=\"data row4 col3\" >15.086272</td>\n",
       "                        <td id=\"T_54990a36_ca9e_11eb_849d_c802bc19daadrow4_col4\" class=\"data row4 col4\" >20.515006</td>\n",
       "            </tr>\n",
       "    </tbody></table>"
      ],
      "text/plain": [
       "<pandas.io.formats.style.Styler at 0x1fe46215eb0>"
      ]
     },
     "execution_count": 67,
     "metadata": {},
     "output_type": "execute_result"
    }
   ],
   "source": [
    "# create a chi-squared distribution table for selected values\n",
    "critical = chi2.ppf(prob, dof)\n",
    "chi.style.applymap(lambda x: 'background-color : yellow' \n",
    "    if x==critical else '')"
   ]
  },
  {
   "cell_type": "markdown",
   "metadata": {},
   "source": [
    "<P class=\"mytable\" data-title=\"Upper-tail critical values of chi-squared distribution\" data-summary=\"Table created from scipy.stats chi2 package. Cols are the probability, rows are the degrees of freedom. The critical value is highlighted for reference. (CHI21)\">"
   ]
  },
  {
   "cell_type": "code",
   "execution_count": 68,
   "metadata": {},
   "outputs": [
    {
     "data": {
      "text/latex": [
       "\\begin{equation*}\n",
       "Reject H_0 \\longleftrightarrow \\chi^2 \\geqslant {18.46682695290317}\n",
       "\\end{equation*}\n"
      ],
      "text/plain": [
       "<IPython.core.display.Latex object>"
      ]
     },
     "execution_count": 68,
     "metadata": {},
     "output_type": "execute_result"
    }
   ],
   "source": [
    "# Reject Null Hypothesis based on Chi2 critical value\n",
    "Latex(f\"\"\"\\\\begin{{equation*}}\n",
    "Reject H_0 \\\\longleftrightarrow \\\\chi^2 \\\\geqslant {{{critical}}}\n",
    "\\\\end{{equation*}}\n",
    "\"\"\")"
   ]
  },
  {
   "cell_type": "markdown",
   "metadata": {},
   "source": [
    "<p class ='step' data-inc=\"4\" data-step=\"Interpret test results\">"
   ]
  },
  {
   "cell_type": "code",
   "execution_count": 69,
   "metadata": {},
   "outputs": [
    {
     "name": "stdout",
     "output_type": "stream",
     "text": [
      "probability=0.999, critical=18.467, stat=2342.822\n",
      "stat >= critical, therefore, variables are dependent, reject H0\n"
     ]
    }
   ],
   "source": [
    "# interpret test-statistic\n",
    "print('probability=%.3f, critical=%.3f, stat=%.3f' % (prob, critical, stat))\n",
    "if abs(stat) >= critical:\n",
    "    print('stat >= critical, therefore, variables are dependent, reject H0')\n",
    "else:\n",
    "    print('stat < critical, therefore, variables are independent, fail to reject H0')"
   ]
  },
  {
   "cell_type": "code",
   "execution_count": 70,
   "metadata": {},
   "outputs": [
    {
     "name": "stdout",
     "output_type": "stream",
     "text": [
      "significance=0.001, p=0.000\n",
      "p <= alpha, therefore, variables are dependent, reject H0\n"
     ]
    }
   ],
   "source": [
    "# interpret p-value\n",
    "print('significance=%.3f, p=%.3f' % (alpha, p))\n",
    "if p <= alpha:\n",
    "    print('p <= alpha, therefore, variables are dependent, reject H0')\n",
    "else:\n",
    "    print('p > alpha, therefore, variables are independent, fail to reject H0')"
   ]
  },
  {
   "cell_type": "markdown",
   "metadata": {},
   "source": [
    "<p class ='step' data-inc=\"5\" data-step=\"Conclusion\">"
   ]
  },
  {
   "cell_type": "markdown",
   "metadata": {},
   "source": [
    "Reject null hypothesis (H0) and conduct further research to determine extent of the dependent relationship between Churn and Tenure."
   ]
  },
  {
   "cell_type": "markdown",
   "metadata": {},
   "source": [
    "### 3rd test - Churn/Bandwidth"
   ]
  },
  {
   "cell_type": "markdown",
   "metadata": {},
   "source": [
    "Not sure about this one..."
   ]
  },
  {
   "cell_type": "markdown",
   "metadata": {},
   "source": [
    "<p class ='step' data-inc=\"1\" data-step=\"Define data and calculate Chi2\">"
   ]
  },
  {
   "cell_type": "code",
   "execution_count": 92,
   "metadata": {},
   "outputs": [],
   "source": [
    "# Chi-square test of independence using the contingency data (CHI21)\n",
    "mc_groups =pd.cut(df['Bandwidth_GB_Year'], bins=5)\n",
    "contingency= pd.crosstab(df['Churn'], mc_groups) \n",
    "stat, p, dof, expected = chi2_contingency(contingency)"
   ]
  },
  {
   "cell_type": "markdown",
   "metadata": {},
   "source": [
    "<p class ='step' data-inc=\"2\" data-step=\"Setup hypothosis and level of significance\">"
   ]
  },
  {
   "cell_type": "markdown",
   "metadata": {},
   "source": [
    "Null Hypothesis: $ H_0$: Churn and Bandwidth are independent"
   ]
  },
  {
   "cell_type": "markdown",
   "metadata": {},
   "source": [
    "Alternate Hypothesis: $ H_A$: Churn and Bandwidth are dependent"
   ]
  },
  {
   "cell_type": "code",
   "execution_count": 93,
   "metadata": {},
   "outputs": [],
   "source": [
    "alpha = .001 # level of significance"
   ]
  },
  {
   "cell_type": "markdown",
   "metadata": {},
   "source": [
    "<p class ='step' data-inc=\"3\" data-step=\"Select test statistic\">"
   ]
  },
  {
   "cell_type": "markdown",
   "metadata": {},
   "source": [
    "Chi-squared: \\begin{equation}\n",
    "{\\chi}^2=\n",
    "\\sum{\n",
    "    \\frac{\n",
    "        {\\left( \n",
    "            {O}-{E}\n",
    "        \\right)}^2\n",
    "        }\n",
    "        {E}\n",
    "}\n",
    "\\end{equation}"
   ]
  },
  {
   "cell_type": "markdown",
   "metadata": {},
   "source": [
    "<p class ='step' data-inc=\"4\" data-step=\"Setup test criteria\">"
   ]
  },
  {
   "cell_type": "code",
   "execution_count": 94,
   "metadata": {},
   "outputs": [],
   "source": [
    "# dof = degrees of freedome = (rows-1)(cols-1)\n",
    "prob = 1 - alpha # significance level"
   ]
  },
  {
   "cell_type": "code",
   "execution_count": 95,
   "metadata": {},
   "outputs": [
    {
     "data": {
      "text/html": [
       "<style  type=\"text/css\" >\n",
       "#T_823e0abe_ca9f_11eb_8f31_c802bc19daadrow3_col4{\n",
       "            background-color :  yellow;\n",
       "        }</style><table id=\"T_823e0abe_ca9f_11eb_8f31_c802bc19daad\" ><thead>    <tr>        <th class=\"blank level0\" ></th>        <th class=\"col_heading level0 col0\" >0.90</th>        <th class=\"col_heading level0 col1\" >0.95</th>        <th class=\"col_heading level0 col2\" >0.975</th>        <th class=\"col_heading level0 col3\" >0.99</th>        <th class=\"col_heading level0 col4\" >0.999</th>    </tr></thead><tbody>\n",
       "                <tr>\n",
       "                        <th id=\"T_823e0abe_ca9f_11eb_8f31_c802bc19daadlevel0_row0\" class=\"row_heading level0 row0\" >1</th>\n",
       "                        <td id=\"T_823e0abe_ca9f_11eb_8f31_c802bc19daadrow0_col0\" class=\"data row0 col0\" >2.705543</td>\n",
       "                        <td id=\"T_823e0abe_ca9f_11eb_8f31_c802bc19daadrow0_col1\" class=\"data row0 col1\" >3.841459</td>\n",
       "                        <td id=\"T_823e0abe_ca9f_11eb_8f31_c802bc19daadrow0_col2\" class=\"data row0 col2\" >5.023886</td>\n",
       "                        <td id=\"T_823e0abe_ca9f_11eb_8f31_c802bc19daadrow0_col3\" class=\"data row0 col3\" >6.634897</td>\n",
       "                        <td id=\"T_823e0abe_ca9f_11eb_8f31_c802bc19daadrow0_col4\" class=\"data row0 col4\" >10.827566</td>\n",
       "            </tr>\n",
       "            <tr>\n",
       "                        <th id=\"T_823e0abe_ca9f_11eb_8f31_c802bc19daadlevel0_row1\" class=\"row_heading level0 row1\" >2</th>\n",
       "                        <td id=\"T_823e0abe_ca9f_11eb_8f31_c802bc19daadrow1_col0\" class=\"data row1 col0\" >4.605170</td>\n",
       "                        <td id=\"T_823e0abe_ca9f_11eb_8f31_c802bc19daadrow1_col1\" class=\"data row1 col1\" >5.991465</td>\n",
       "                        <td id=\"T_823e0abe_ca9f_11eb_8f31_c802bc19daadrow1_col2\" class=\"data row1 col2\" >7.377759</td>\n",
       "                        <td id=\"T_823e0abe_ca9f_11eb_8f31_c802bc19daadrow1_col3\" class=\"data row1 col3\" >9.210340</td>\n",
       "                        <td id=\"T_823e0abe_ca9f_11eb_8f31_c802bc19daadrow1_col4\" class=\"data row1 col4\" >13.815511</td>\n",
       "            </tr>\n",
       "            <tr>\n",
       "                        <th id=\"T_823e0abe_ca9f_11eb_8f31_c802bc19daadlevel0_row2\" class=\"row_heading level0 row2\" >3</th>\n",
       "                        <td id=\"T_823e0abe_ca9f_11eb_8f31_c802bc19daadrow2_col0\" class=\"data row2 col0\" >6.251389</td>\n",
       "                        <td id=\"T_823e0abe_ca9f_11eb_8f31_c802bc19daadrow2_col1\" class=\"data row2 col1\" >7.814728</td>\n",
       "                        <td id=\"T_823e0abe_ca9f_11eb_8f31_c802bc19daadrow2_col2\" class=\"data row2 col2\" >9.348404</td>\n",
       "                        <td id=\"T_823e0abe_ca9f_11eb_8f31_c802bc19daadrow2_col3\" class=\"data row2 col3\" >11.344867</td>\n",
       "                        <td id=\"T_823e0abe_ca9f_11eb_8f31_c802bc19daadrow2_col4\" class=\"data row2 col4\" >16.266236</td>\n",
       "            </tr>\n",
       "            <tr>\n",
       "                        <th id=\"T_823e0abe_ca9f_11eb_8f31_c802bc19daadlevel0_row3\" class=\"row_heading level0 row3\" >4</th>\n",
       "                        <td id=\"T_823e0abe_ca9f_11eb_8f31_c802bc19daadrow3_col0\" class=\"data row3 col0\" >7.779440</td>\n",
       "                        <td id=\"T_823e0abe_ca9f_11eb_8f31_c802bc19daadrow3_col1\" class=\"data row3 col1\" >9.487729</td>\n",
       "                        <td id=\"T_823e0abe_ca9f_11eb_8f31_c802bc19daadrow3_col2\" class=\"data row3 col2\" >11.143287</td>\n",
       "                        <td id=\"T_823e0abe_ca9f_11eb_8f31_c802bc19daadrow3_col3\" class=\"data row3 col3\" >13.276704</td>\n",
       "                        <td id=\"T_823e0abe_ca9f_11eb_8f31_c802bc19daadrow3_col4\" class=\"data row3 col4\" >18.466827</td>\n",
       "            </tr>\n",
       "            <tr>\n",
       "                        <th id=\"T_823e0abe_ca9f_11eb_8f31_c802bc19daadlevel0_row4\" class=\"row_heading level0 row4\" >5</th>\n",
       "                        <td id=\"T_823e0abe_ca9f_11eb_8f31_c802bc19daadrow4_col0\" class=\"data row4 col0\" >9.236357</td>\n",
       "                        <td id=\"T_823e0abe_ca9f_11eb_8f31_c802bc19daadrow4_col1\" class=\"data row4 col1\" >11.070498</td>\n",
       "                        <td id=\"T_823e0abe_ca9f_11eb_8f31_c802bc19daadrow4_col2\" class=\"data row4 col2\" >12.832502</td>\n",
       "                        <td id=\"T_823e0abe_ca9f_11eb_8f31_c802bc19daadrow4_col3\" class=\"data row4 col3\" >15.086272</td>\n",
       "                        <td id=\"T_823e0abe_ca9f_11eb_8f31_c802bc19daadrow4_col4\" class=\"data row4 col4\" >20.515006</td>\n",
       "            </tr>\n",
       "    </tbody></table>"
      ],
      "text/plain": [
       "<pandas.io.formats.style.Styler at 0x1fe4622fa00>"
      ]
     },
     "execution_count": 95,
     "metadata": {},
     "output_type": "execute_result"
    }
   ],
   "source": [
    "# create a chi-squared distribution table for selected values\n",
    "critical = chi2.ppf(prob, dof)\n",
    "chi.style.applymap(lambda x: 'background-color : yellow' \n",
    "    if x==critical else '')"
   ]
  },
  {
   "cell_type": "markdown",
   "metadata": {},
   "source": [
    "<P class=\"mytable\" data-title=\"Upper-tail critical values of chi-squared distribution\" data-summary=\"Table created from scipy.stats chi2 package. Cols are the probability, rows are the degrees of freedom. The critical value is highlighted for reference. (CHI21)\">"
   ]
  },
  {
   "cell_type": "code",
   "execution_count": 96,
   "metadata": {},
   "outputs": [
    {
     "data": {
      "text/latex": [
       "\\begin{equation*}\n",
       "Reject H_0 \\longleftrightarrow \\chi^2 \\geqslant {18.46682695290317}\n",
       "\\end{equation*}\n"
      ],
      "text/plain": [
       "<IPython.core.display.Latex object>"
      ]
     },
     "execution_count": 96,
     "metadata": {},
     "output_type": "execute_result"
    }
   ],
   "source": [
    "# Reject Null Hypothesis based on Chi2 critical value\n",
    "Latex(f\"\"\"\\\\begin{{equation*}}\n",
    "Reject H_0 \\\\longleftrightarrow \\\\chi^2 \\\\geqslant {{{critical}}}\n",
    "\\\\end{{equation*}}\n",
    "\"\"\")"
   ]
  },
  {
   "cell_type": "markdown",
   "metadata": {},
   "source": [
    "<p class ='step' data-inc=\"4\" data-step=\"Interpret test results\">"
   ]
  },
  {
   "cell_type": "code",
   "execution_count": 97,
   "metadata": {},
   "outputs": [
    {
     "name": "stdout",
     "output_type": "stream",
     "text": [
      "probability=0.999, critical=18.467, stat=2181.567\n",
      "stat >= critical, therefore, variables are dependent, reject H0\n"
     ]
    }
   ],
   "source": [
    "# interpret test-statistic\n",
    "print('probability=%.3f, critical=%.3f, stat=%.3f' % (prob, critical, stat))\n",
    "if abs(stat) >= critical:\n",
    "    print('stat >= critical, therefore, variables are dependent, reject H0')\n",
    "else:\n",
    "    print('stat < critical, therefore, variables are independent, fail to reject H0')"
   ]
  },
  {
   "cell_type": "code",
   "execution_count": 98,
   "metadata": {},
   "outputs": [
    {
     "name": "stdout",
     "output_type": "stream",
     "text": [
      "significance=0.001, p=0.000\n",
      "p <= alpha, therefore, variables are dependent, reject H0\n"
     ]
    }
   ],
   "source": [
    "# interpret p-value\n",
    "print('significance=%.3f, p=%.3f' % (alpha, p))\n",
    "if p <= alpha:\n",
    "    print('p <= alpha, therefore, variables are dependent, reject H0')\n",
    "else:\n",
    "    print('p > alpha, therefore, variables are independent, fail to reject H0')"
   ]
  },
  {
   "cell_type": "markdown",
   "metadata": {},
   "source": [
    "<p class ='step' data-inc=\"5\" data-step=\"Conclusion\">"
   ]
  },
  {
   "cell_type": "markdown",
   "metadata": {},
   "source": [
    "Reject null hypothesis (H0) and conduct further research to determine extent of the dependent relationship between Churn and Bandwidth."
   ]
  },
  {
   "cell_type": "markdown",
   "metadata": {},
   "source": [
    "### 4th test - Churn/Income"
   ]
  },
  {
   "cell_type": "markdown",
   "metadata": {},
   "source": [
    "Not sure what this will produce... I think these two variables are independent..."
   ]
  },
  {
   "cell_type": "markdown",
   "metadata": {},
   "source": [
    "<p class ='step' data-inc=\"1\" data-step=\"Define data and calculate Chi2\">"
   ]
  },
  {
   "cell_type": "code",
   "execution_count": 99,
   "metadata": {},
   "outputs": [],
   "source": [
    "# Chi-square test of independence using the contingency data (CHI21)\n",
    "mc_groups =pd.cut(df['Income'], bins=2)\n",
    "contingency= pd.crosstab(df['Churn'], mc_groups) \n",
    "stat, p, dof, expected = chi2_contingency(contingency)"
   ]
  },
  {
   "cell_type": "markdown",
   "metadata": {},
   "source": [
    "<p class ='step' data-inc=\"2\" data-step=\"Setup hypothosis and level of significance\">"
   ]
  },
  {
   "cell_type": "markdown",
   "metadata": {},
   "source": [
    "Null Hypothesis: $ H_0$: Churn and Income are independent"
   ]
  },
  {
   "cell_type": "markdown",
   "metadata": {},
   "source": [
    "Alternate Hypothesis: $ H_A$: Churn and Income are dependent"
   ]
  },
  {
   "cell_type": "code",
   "execution_count": 100,
   "metadata": {},
   "outputs": [],
   "source": [
    "alpha = .1 # level of significance"
   ]
  },
  {
   "cell_type": "markdown",
   "metadata": {},
   "source": [
    "<p class ='step' data-inc=\"3\" data-step=\"Select test statistic\">"
   ]
  },
  {
   "cell_type": "markdown",
   "metadata": {},
   "source": [
    "Chi-squared: \\begin{equation}\n",
    "{\\chi}^2=\n",
    "\\sum{\n",
    "    \\frac{\n",
    "        {\\left( \n",
    "            {O}-{E}\n",
    "        \\right)}^2\n",
    "        }\n",
    "        {E}\n",
    "}\n",
    "\\end{equation}"
   ]
  },
  {
   "cell_type": "markdown",
   "metadata": {},
   "source": [
    "<p class ='step' data-inc=\"4\" data-step=\"Setup test criteria\">"
   ]
  },
  {
   "cell_type": "code",
   "execution_count": 101,
   "metadata": {},
   "outputs": [],
   "source": [
    "# dof = degrees of freedome = (rows-1)(cols-1)\n",
    "prob = 1 - alpha # significance level"
   ]
  },
  {
   "cell_type": "code",
   "execution_count": 102,
   "metadata": {},
   "outputs": [
    {
     "data": {
      "text/html": [
       "<style  type=\"text/css\" >\n",
       "#T_bfb70003_ca9f_11eb_90d4_c802bc19daadrow0_col0{\n",
       "            background-color :  yellow;\n",
       "        }</style><table id=\"T_bfb70003_ca9f_11eb_90d4_c802bc19daad\" ><thead>    <tr>        <th class=\"blank level0\" ></th>        <th class=\"col_heading level0 col0\" >0.90</th>        <th class=\"col_heading level0 col1\" >0.95</th>        <th class=\"col_heading level0 col2\" >0.975</th>        <th class=\"col_heading level0 col3\" >0.99</th>        <th class=\"col_heading level0 col4\" >0.999</th>    </tr></thead><tbody>\n",
       "                <tr>\n",
       "                        <th id=\"T_bfb70003_ca9f_11eb_90d4_c802bc19daadlevel0_row0\" class=\"row_heading level0 row0\" >1</th>\n",
       "                        <td id=\"T_bfb70003_ca9f_11eb_90d4_c802bc19daadrow0_col0\" class=\"data row0 col0\" >2.705543</td>\n",
       "                        <td id=\"T_bfb70003_ca9f_11eb_90d4_c802bc19daadrow0_col1\" class=\"data row0 col1\" >3.841459</td>\n",
       "                        <td id=\"T_bfb70003_ca9f_11eb_90d4_c802bc19daadrow0_col2\" class=\"data row0 col2\" >5.023886</td>\n",
       "                        <td id=\"T_bfb70003_ca9f_11eb_90d4_c802bc19daadrow0_col3\" class=\"data row0 col3\" >6.634897</td>\n",
       "                        <td id=\"T_bfb70003_ca9f_11eb_90d4_c802bc19daadrow0_col4\" class=\"data row0 col4\" >10.827566</td>\n",
       "            </tr>\n",
       "            <tr>\n",
       "                        <th id=\"T_bfb70003_ca9f_11eb_90d4_c802bc19daadlevel0_row1\" class=\"row_heading level0 row1\" >2</th>\n",
       "                        <td id=\"T_bfb70003_ca9f_11eb_90d4_c802bc19daadrow1_col0\" class=\"data row1 col0\" >4.605170</td>\n",
       "                        <td id=\"T_bfb70003_ca9f_11eb_90d4_c802bc19daadrow1_col1\" class=\"data row1 col1\" >5.991465</td>\n",
       "                        <td id=\"T_bfb70003_ca9f_11eb_90d4_c802bc19daadrow1_col2\" class=\"data row1 col2\" >7.377759</td>\n",
       "                        <td id=\"T_bfb70003_ca9f_11eb_90d4_c802bc19daadrow1_col3\" class=\"data row1 col3\" >9.210340</td>\n",
       "                        <td id=\"T_bfb70003_ca9f_11eb_90d4_c802bc19daadrow1_col4\" class=\"data row1 col4\" >13.815511</td>\n",
       "            </tr>\n",
       "            <tr>\n",
       "                        <th id=\"T_bfb70003_ca9f_11eb_90d4_c802bc19daadlevel0_row2\" class=\"row_heading level0 row2\" >3</th>\n",
       "                        <td id=\"T_bfb70003_ca9f_11eb_90d4_c802bc19daadrow2_col0\" class=\"data row2 col0\" >6.251389</td>\n",
       "                        <td id=\"T_bfb70003_ca9f_11eb_90d4_c802bc19daadrow2_col1\" class=\"data row2 col1\" >7.814728</td>\n",
       "                        <td id=\"T_bfb70003_ca9f_11eb_90d4_c802bc19daadrow2_col2\" class=\"data row2 col2\" >9.348404</td>\n",
       "                        <td id=\"T_bfb70003_ca9f_11eb_90d4_c802bc19daadrow2_col3\" class=\"data row2 col3\" >11.344867</td>\n",
       "                        <td id=\"T_bfb70003_ca9f_11eb_90d4_c802bc19daadrow2_col4\" class=\"data row2 col4\" >16.266236</td>\n",
       "            </tr>\n",
       "            <tr>\n",
       "                        <th id=\"T_bfb70003_ca9f_11eb_90d4_c802bc19daadlevel0_row3\" class=\"row_heading level0 row3\" >4</th>\n",
       "                        <td id=\"T_bfb70003_ca9f_11eb_90d4_c802bc19daadrow3_col0\" class=\"data row3 col0\" >7.779440</td>\n",
       "                        <td id=\"T_bfb70003_ca9f_11eb_90d4_c802bc19daadrow3_col1\" class=\"data row3 col1\" >9.487729</td>\n",
       "                        <td id=\"T_bfb70003_ca9f_11eb_90d4_c802bc19daadrow3_col2\" class=\"data row3 col2\" >11.143287</td>\n",
       "                        <td id=\"T_bfb70003_ca9f_11eb_90d4_c802bc19daadrow3_col3\" class=\"data row3 col3\" >13.276704</td>\n",
       "                        <td id=\"T_bfb70003_ca9f_11eb_90d4_c802bc19daadrow3_col4\" class=\"data row3 col4\" >18.466827</td>\n",
       "            </tr>\n",
       "            <tr>\n",
       "                        <th id=\"T_bfb70003_ca9f_11eb_90d4_c802bc19daadlevel0_row4\" class=\"row_heading level0 row4\" >5</th>\n",
       "                        <td id=\"T_bfb70003_ca9f_11eb_90d4_c802bc19daadrow4_col0\" class=\"data row4 col0\" >9.236357</td>\n",
       "                        <td id=\"T_bfb70003_ca9f_11eb_90d4_c802bc19daadrow4_col1\" class=\"data row4 col1\" >11.070498</td>\n",
       "                        <td id=\"T_bfb70003_ca9f_11eb_90d4_c802bc19daadrow4_col2\" class=\"data row4 col2\" >12.832502</td>\n",
       "                        <td id=\"T_bfb70003_ca9f_11eb_90d4_c802bc19daadrow4_col3\" class=\"data row4 col3\" >15.086272</td>\n",
       "                        <td id=\"T_bfb70003_ca9f_11eb_90d4_c802bc19daadrow4_col4\" class=\"data row4 col4\" >20.515006</td>\n",
       "            </tr>\n",
       "    </tbody></table>"
      ],
      "text/plain": [
       "<pandas.io.formats.style.Styler at 0x1fe462f8e50>"
      ]
     },
     "execution_count": 102,
     "metadata": {},
     "output_type": "execute_result"
    }
   ],
   "source": [
    "# create a chi-squared distribution table for selected values\n",
    "critical = chi2.ppf(prob, dof)\n",
    "chi.style.applymap(lambda x: 'background-color : yellow' \n",
    "    if x==critical else '')"
   ]
  },
  {
   "cell_type": "markdown",
   "metadata": {},
   "source": [
    "<P class=\"mytable\" data-title=\"Upper-tail critical values of chi-squared distribution\" data-summary=\"Table created from scipy.stats chi2 package. Cols are the probability, rows are the degrees of freedom. The critical value is highlighted for reference. (CHI21)\">"
   ]
  },
  {
   "cell_type": "code",
   "execution_count": 103,
   "metadata": {},
   "outputs": [
    {
     "data": {
      "text/latex": [
       "\\begin{equation*}\n",
       "Reject H_0 \\longleftrightarrow \\chi^2 \\geqslant {2.705543454095404}\n",
       "\\end{equation*}\n"
      ],
      "text/plain": [
       "<IPython.core.display.Latex object>"
      ]
     },
     "execution_count": 103,
     "metadata": {},
     "output_type": "execute_result"
    }
   ],
   "source": [
    "# Reject Null Hypothesis based on Chi2 critical value\n",
    "Latex(f\"\"\"\\\\begin{{equation*}}\n",
    "Reject H_0 \\\\longleftrightarrow \\\\chi^2 \\\\geqslant {{{critical}}}\n",
    "\\\\end{{equation*}}\n",
    "\"\"\")"
   ]
  },
  {
   "cell_type": "markdown",
   "metadata": {},
   "source": [
    "<p class ='step' data-inc=\"4\" data-step=\"Interpret test results\">"
   ]
  },
  {
   "cell_type": "code",
   "execution_count": 104,
   "metadata": {},
   "outputs": [
    {
     "name": "stdout",
     "output_type": "stream",
     "text": [
      "probability=0.900, critical=2.706, stat=1.873\n",
      "stat < critical, therefore, variables are independent, fail to reject H0\n"
     ]
    }
   ],
   "source": [
    "# interpret test-statistic\n",
    "print('probability=%.3f, critical=%.3f, stat=%.3f' % (prob, critical, stat))\n",
    "if abs(stat) >= critical:\n",
    "    print('stat >= critical, therefore, variables are dependent, reject H0')\n",
    "else:\n",
    "    print('stat < critical, therefore, variables are independent, fail to reject H0')"
   ]
  },
  {
   "cell_type": "code",
   "execution_count": 105,
   "metadata": {},
   "outputs": [
    {
     "name": "stdout",
     "output_type": "stream",
     "text": [
      "significance=0.100, p=0.171\n",
      "p > alpha, therefore, variables are independent, fail to reject H0\n"
     ]
    }
   ],
   "source": [
    "# interpret p-value\n",
    "print('significance=%.3f, p=%.3f' % (alpha, p))\n",
    "if p <= alpha:\n",
    "    print('p <= alpha, therefore, variables are dependent, reject H0')\n",
    "else:\n",
    "    print('p > alpha, therefore, variables are independent, fail to reject H0')"
   ]
  },
  {
   "cell_type": "markdown",
   "metadata": {},
   "source": [
    "<p class ='step' data-inc=\"5\" data-step=\"Conclusion\">"
   ]
  },
  {
   "cell_type": "markdown",
   "metadata": {},
   "source": [
    "Variables are independent, fail to reject null hypothesis (H0)."
   ]
  },
  {
   "cell_type": "code",
   "execution_count": null,
   "metadata": {},
   "outputs": [],
   "source": []
  },
  {
   "cell_type": "markdown",
   "metadata": {},
   "source": [
    "## References"
   ]
  },
  {
   "cell_type": "markdown",
   "metadata": {},
   "source": [
    "## References"
   ]
  },
  {
   "cell_type": "markdown",
   "metadata": {},
   "source": [
    "(ANA21) https://docs.anaconda.com/anaconda/install/windows/"
   ]
  },
  {
   "cell_type": "markdown",
   "metadata": {},
   "source": [
    "<p class ='apa' id=\"bru20\">(BRU20) Bruce, P., Bruce, A., &amp; Gedeck, P. (2020). Practical Statistics for Data Scientists. O'Reilly Media Inc.</p>"
   ]
  },
  {
   "cell_type": "markdown",
   "metadata": {},
   "source": [
    "(CHI21) https://docs.scipy.org/doc/scipy/reference/generated/scipy.stats.chisquare.html"
   ]
  },
  {
   "cell_type": "markdown",
   "metadata": {},
   "source": [
    "(CHI21) https://machinelearningmastery.com/chi-squared-test-for-machine-learning/"
   ]
  },
  {
   "cell_type": "markdown",
   "metadata": {},
   "source": [
    "(CHI21) https://www.statisticshowto.com/tables/chi-squared-table-right-tail/"
   ]
  },
  {
   "cell_type": "markdown",
   "metadata": {},
   "source": [
    "*** (CHI21) https://sphweb.bumc.bu.edu/otlt/MPH-Modules/BS/BS704_HypothesisTesting-ChiSquare/BS704_HypothesisTesting-ChiSquare_print.html"
   ]
  },
  {
   "cell_type": "markdown",
   "metadata": {},
   "source": [
    "(CON21) https://www.statsmodels.org/stable/contingency_tables.html"
   ]
  },
  {
   "cell_type": "markdown",
   "metadata": {},
   "source": [
    "<p class ='apa' id=\"gri09\">(GRI09) Griffiths, D. (2009). Head First Statistics. O'Reilly Media Inc.</p>"
   ]
  },
  {
   "cell_type": "markdown",
   "metadata": {},
   "source": [
    "(JUP21) https://jupyter-contrib-nbextensions.readthedocs.io/en/latest/install.html"
   ]
  },
  {
   "cell_type": "markdown",
   "metadata": {},
   "source": [
    "(JUP21) https://kegui.medium.com/change-jupyter-notebook-startup-folder-windows-608dfcfdc104"
   ]
  },
  {
   "cell_type": "markdown",
   "metadata": {},
   "source": [
    "(KAG21) https://www.kaggle.com/hamelg/python-for-data-25-chi-squared-tests"
   ]
  },
  {
   "cell_type": "markdown",
   "metadata": {},
   "source": [
    "<p class ='apa' id=\"lar19\">(LAR19) Larose, C. D., &amp; Larose, D. T. (2019). Data Science Using Python and R. Wiley.</p>"
   ]
  },
  {
   "cell_type": "markdown",
   "metadata": {},
   "source": [
    "(LAT21) https://secure.math.ubc.ca/~pwalls/math-python/jupyter/latex/"
   ]
  },
  {
   "cell_type": "markdown",
   "metadata": {},
   "source": [
    "(MAT21) https://matplotlib.org/"
   ]
  },
  {
   "cell_type": "markdown",
   "metadata": {},
   "source": [
    "(MAT21) https://math.meta.stackexchange.com/questions/21841/how-to-type-greater-than-or-equal-to-symbols?noredirect=1"
   ]
  },
  {
   "cell_type": "markdown",
   "metadata": {},
   "source": [
    "(NUM21) https://numpy.org/"
   ]
  },
  {
   "cell_type": "markdown",
   "metadata": {},
   "source": [
    "(PAN21) https://pandas.pydata.org/docs/pandas.pdf"
   ]
  },
  {
   "cell_type": "markdown",
   "metadata": {},
   "source": [
    "(PCA21) https://sebastianraschka.com/Articles/2014_pca_step_by_step.html"
   ]
  },
  {
   "cell_type": "markdown",
   "metadata": {},
   "source": [
    "(PCA21) https://pub.towardsai.net/principal-component-analysis-pca-with-python-examples-tutorial-67a917bae9aa"
   ]
  },
  {
   "cell_type": "markdown",
   "metadata": {},
   "source": [
    "(PCA21) https://www.districtdatalabs.com/principal-component-analysis-with-python"
   ]
  },
  {
   "cell_type": "markdown",
   "metadata": {},
   "source": [
    "(PCA21) https://www.edureka.co/blog/principal-component-analysis/"
   ]
  },
  {
   "cell_type": "markdown",
   "metadata": {},
   "source": [
    "(PCA21) https://jakevdp.github.io/PythonDataScienceHandbook/05.09-principal-component-analysis.html"
   ]
  },
  {
   "cell_type": "markdown",
   "metadata": {},
   "source": [
    "(PCA21) https://www.geeksforgeeks.org/principal-component-analysis-with-python/"
   ]
  },
  {
   "cell_type": "markdown",
   "metadata": {},
   "source": [
    "(PCA21) https://stackoverflow.com/questions/13224362/principal-component-analysis-pca-in-python"
   ]
  },
  {
   "cell_type": "markdown",
   "metadata": {},
   "source": [
    "(PCA21) https://www.machinelearningplus.com/machine-learning/principal-components-analysis-pca-better-explained/"
   ]
  },
  {
   "cell_type": "markdown",
   "metadata": {},
   "source": [
    "(SCI21) https://www.scipy.org/"
   ]
  },
  {
   "cell_type": "markdown",
   "metadata": {},
   "source": [
    "<p class ='apa' id=\"sto21\">(STO21) Stoltenber, S. (2021, April 26). Styling a Jupyter Notebook. Retrieved from <a href=\"https://skelouse.github.io/styling_a_jupyter_notebook\">https://skelouse.github.io/styling_a_jupyter_notebook</a>"
   ]
  },
  {
   "cell_type": "markdown",
   "metadata": {},
   "source": [
    "<p class ='apa' id=\"tuk77\">(TUK77) Tukey, J. W. (1977). Exploratory Data Analysis. Addison-Wesley Publishing Company. Retrieved from <a href=\"http://www.ru.ac.bd/wp-content/uploads/sites/25/2019/03/102_05_01_Tukey-Exploratory-Data-Analysis-1977.pdf\">http://www.ru.ac.bd/wp-content/uploads/sites/25/2019/03/102_05_01_Tukey-Exploratory-Data-Analysis-1977.pdf</a>"
   ]
  },
  {
   "cell_type": "markdown",
   "metadata": {},
   "source": [
    "<p class ='apa' id=\"wil19\">(WIL19) Wilke, C. O. (2019). Fundamental of Data Visualization: A Primer on Making Informative and Compelling Figures. O'Reilly Media Inc."
   ]
  },
  {
   "cell_type": "markdown",
   "metadata": {},
   "source": [
    "<p class=\"apa\" id=\"wgu21\">(WGU21) WGU.edu (2021, Jun 1). Data Files and Associated Dictionary Files. Retrieved from <a href=\"https://access.wgu.edu/ASP3/aap/content/kgj47f8gj49f8du49d3k.html\">https://access.wgu.edu/ASP3/aap/content/kgj47f8gj49f8du49d3k.html</a>\n"
   ]
  },
  {
   "cell_type": "markdown",
   "metadata": {},
   "source": [
    "## Requirements"
   ]
  },
  {
   "cell_type": "markdown",
   "metadata": {},
   "source": [
    "Your submission must be your original work. No more than a combined total of 30% of the submission and no more than a 10% match to any one individual source can be directly quoted or closely paraphrased from sources, even if cited correctly. The originality report that is provided when you submit your task can be used as a guide.\n",
    "\n",
    "You must use the rubric to direct the creation of your submission because it provides detailed criteria that will be used to evaluate your work. Each requirement below may be evaluated by more than one rubric aspect. The rubric aspect titles may contain hyperlinks to relevant portions of the course.\n",
    "\n",
    "Tasks may not be submitted as cloud links, such as links to Google Docs, Google Slides, OneDrive, etc., unless specified in the task requirements. All other submissions must be file types that are uploaded and submitted as attachments (e.g., .docx, .pdf, .ppt)."
   ]
  },
  {
   "cell_type": "markdown",
   "metadata": {},
   "source": [
    "A.  Describe a real-world organizational situation or issue in the Data Dictionary you chose, by doing the following:\n",
    "\n",
    "1.  Provide one question that is relevant to your chosen data set. You will answer this question later in the task through an analysis of the cleaned data, using one of the following techniques: chi-square, t-test, or analysis of variance (ANOVA).\n",
    "\n",
    "2.  Explain how stakeholders in the organization could benefit from an analysis of the data.\n",
    "\n",
    "3.  Identify all of the data in your data set that are relevant to answering your question in part A1."
   ]
  },
  {
   "cell_type": "markdown",
   "metadata": {},
   "source": [
    "<P class ='rubric'>The submission provides a specific question to be addressed through the analysis of the data set using one of the listed analysis techniques. The question is relevant to the chosen data set.</P>"
   ]
  },
  {
   "cell_type": "markdown",
   "metadata": {},
   "source": [
    "<P class ='rubric'>The explanation correctly addresses how stakeholders in the organization could benefit from the data analysis.</P>"
   ]
  },
  {
   "cell_type": "markdown",
   "metadata": {},
   "source": [
    "<P class ='rubric'>The submission correctly identifies the specific data within the data set that are relevant to addressing the question from part A1.</P>"
   ]
  },
  {
   "cell_type": "markdown",
   "metadata": {},
   "source": [
    "B.  Describe the data analysis by doing the following:\n",
    "\n",
    "1.  Using one of the following techniques, write code (in either Python or R) to run the analysis of the data set:\n",
    "\n",
    "•   chi-square\n",
    "\n",
    "•   t-test\n",
    "\n",
    "•   ANOVA\n",
    "\n",
    "2.  Provide the output and the results of any calculations from the analysis you performed.\n",
    "\n",
    "3.  Justify why you chose this analysis technique."
   ]
  },
  {
   "cell_type": "markdown",
   "metadata": {},
   "source": [
    "<P class ='rubric'>The submission includes a warning- and error-free code to accurately analyze the data set using 1 of the given techniques.</P>"
   ]
  },
  {
   "cell_type": "markdown",
   "metadata": {},
   "source": [
    "<P class ='rubric'>The submission includes the output from running the code and the results of all calculations performed.</P>"
   ]
  },
  {
   "cell_type": "markdown",
   "metadata": {},
   "source": [
    "<P class ='rubric'>The justification addresses why the chosen method of analysis was selected. The justified technique is one of the three listed in part B1. The technique is sufficient and appropriate for the chosen data set and addresses the question in part A1.</P>"
   ]
  },
  {
   "cell_type": "markdown",
   "metadata": {},
   "source": [
    "C.  Identify the distribution of two continuous variables and two categorical variables using univariate statistics from your cleaned and prepared data. \n",
    "\n",
    "Represent your findings in Part C, visually as part of your submission.\n",
    " \n",
    "\n",
    "Note: To draw a graph or visualization, you may use one or a combination of the following:\n",
    "\n",
    "- A spreadsheet program, such as Excel (*.xls)\n",
    "\n",
    "- A graphics program, such as Paint (*.jpeg, *.gif)\n",
    "\n",
    "- A word-processing program, such as Word (*.rtf) \n",
    "\n",
    "- A scanned hand-drawn graph (*.jpeg, *.gif)"
   ]
  },
  {
   "cell_type": "markdown",
   "metadata": {},
   "source": [
    "<P class ='rubric'>The submission accurately identifies the distribution of 2 continuous and 2 categorical variables using univariate statistics.</P>"
   ]
  },
  {
   "cell_type": "markdown",
   "metadata": {},
   "source": [
    "<P class ='rubric'>The submission accurately represents the distribution of the variables in part C.</P>"
   ]
  },
  {
   "cell_type": "markdown",
   "metadata": {},
   "source": [
    "D.  Identify the distribution of two continuous variables and two categorical variables using bivariate statistics from your cleaned and prepared data.\n",
    "\n",
    "Represent your findings in Part D, visually as part of your submission.\n",
    " \n",
    "\n",
    "Note: To draw a graph or visualization, you may use one or a combination of the following:\n",
    "\n",
    "- A spreadsheet program, such as Excel (*.xls)\n",
    "\n",
    "- A graphics program, such as Paint (*.jpeg, *.gif)\n",
    "\n",
    "- A word-processing program, such as Word (*.rtf) \n",
    "\n",
    "- A scanned hand-drawn graph (*.jpeg, *.gif)"
   ]
  },
  {
   "cell_type": "markdown",
   "metadata": {},
   "source": [
    "<P class ='rubric'>The submission accurately identifies the distribution of 2 continuous and 2 categorical variables using bivariate statistics.</P>"
   ]
  },
  {
   "cell_type": "markdown",
   "metadata": {},
   "source": [
    "<P class ='rubric'>The submission accurately represents the distribution of the variables in part D.</P>"
   ]
  },
  {
   "cell_type": "markdown",
   "metadata": {},
   "source": [
    "E.  Summarize the implications of your data analysis by doing the following:\n",
    "\n",
    "1.  Discuss the results of the hypothesis test.\n",
    "\n",
    "2.  Discuss the limitations of your data analysis.\n",
    "\n",
    "3.  Recommend a course of action based on your results."
   ]
  },
  {
   "cell_type": "markdown",
   "metadata": {},
   "source": [
    "<P class ='rubric'>The discussion includes accurate and complete results of the hypothesis test."
   ]
  },
  {
   "cell_type": "markdown",
   "metadata": {},
   "source": [
    "<P class ='rubric'>The explanation includes the limitations of the data analysis and does not include limitations that do not apply to the analysis."
   ]
  },
  {
   "cell_type": "markdown",
   "metadata": {},
   "source": [
    "<P class ='rubric'>The recommendation includes both a response to the question from part A1 and specific actions that could be taken in response to the analysis. The recommendation is relevant to the situation and question and would plausibly address the situation and question."
   ]
  },
  {
   "cell_type": "markdown",
   "metadata": {},
   "source": [
    "F.  Provide a Panopto video recording that includes a demonstration of the functionality of the code used for the analysis and a summary of the tool(s) used. \n",
    "\n",
    "Note: For instructions on how to access and use Panopto, use the \"Panopto How-To Videos\" web link provided below. To access Panopto's website, navigate to the web link titled \"Panopto Access,\" and then choose to log in using the “WGU” option. If prompted, log in using your WGU student portal credentials, and then it will forward you to Panopto’s website.\n",
    "\n",
    "To submit your recording, upload it to the Panopto drop box titled “Exploratory Data Analysis – OEM2 \\ D207.” Once the recording has been uploaded and processed in Panopto's system, retrieve the URL of the recording from Panopto and copy and paste it into the Links option. Upload the remaining task requirements using the Attachments option. "
   ]
  },
  {
   "cell_type": "markdown",
   "metadata": {},
   "source": [
    "<P class ='rubric'>The submission provides a Panopto video recording that accurately demonstrates the functionality of the code and summarizes the tools used."
   ]
  },
  {
   "cell_type": "markdown",
   "metadata": {},
   "source": [
    "G.  Reference the web sources used to acquire segments of third-party code to support the analysis. "
   ]
  },
  {
   "cell_type": "markdown",
   "metadata": {},
   "source": [
    "<P class ='rubric'>The submission lists all web sources used to acquire third-party code, and the referenced web sources are reliable."
   ]
  },
  {
   "cell_type": "markdown",
   "metadata": {},
   "source": [
    "H.  Acknowledge sources, using in-text citations and references, for content that is quoted, paraphrased, or summarized."
   ]
  },
  {
   "cell_type": "markdown",
   "metadata": {},
   "source": [
    "<P class ='rubric'>The submission includes in-text citations for sources that are properly quoted, paraphrased, or summarized and a reference list that accurately identifies the author, date, title, and source location as available."
   ]
  },
  {
   "cell_type": "markdown",
   "metadata": {},
   "source": [
    "I.   Demonstrate professional communication in the content and presentation of your submission."
   ]
  },
  {
   "cell_type": "markdown",
   "metadata": {},
   "source": [
    "<P class ='rubric'>Content reflects attention to detail, is organized, and focuses on the main ideas as prescribed in the task or chosen by the candidate. Terminology is pertinent, is used correctly, and effectively conveys the intended meaning. Mechanics, usage, and grammar promote accurate interpretation and understanding."
   ]
  },
  {
   "cell_type": "markdown",
   "metadata": {},
   "source": [
    "File Restrictions\n",
    "File name may contain only letters, numbers, spaces, and these symbols: ! - _ . * ' ( )\n",
    "File size limit: 200 MB\n",
    "File types allowed: doc, docx, rtf, xls, xlsx, ppt, pptx, odt, pdf, txt, qt, mov, mpg, avi, mp3, wav, mp4, wma, flv, asf, mpeg, wmv, m4v, svg, tif, tiff, jpeg, jpg, gif, png, zip, rar, tar, 7z"
   ]
  },
  {
   "cell_type": "code",
   "execution_count": null,
   "metadata": {},
   "outputs": [],
   "source": []
  }
 ],
 "metadata": {
  "kernelspec": {
   "display_name": "Python 3 (ipykernel)",
   "language": "python",
   "name": "python3"
  },
  "language_info": {
   "codemirror_mode": {
    "name": "ipython",
    "version": 3
   },
   "file_extension": ".py",
   "mimetype": "text/x-python",
   "name": "python",
   "nbconvert_exporter": "python",
   "pygments_lexer": "ipython3",
   "version": "3.9.6"
  },
  "latex_envs": {
   "LaTeX_envs_menu_present": true,
   "autoclose": false,
   "autocomplete": true,
   "bibliofile": "biblio.bib",
   "cite_by": "apalike",
   "current_citInitial": 1,
   "eqLabelWithNumbers": true,
   "eqNumInitial": 1,
   "hotkeys": {
    "equation": "Ctrl-E",
    "itemize": "Ctrl-I"
   },
   "labels_anchors": false,
   "latex_user_defs": false,
   "report_style_numbering": false,
   "user_envs_cfg": false
  },
  "toc": {
   "base_numbering": 1,
   "nav_menu": {},
   "number_sections": true,
   "sideBar": true,
   "skip_h1_title": true,
   "title_cell": "Table of Contents",
   "title_sidebar": "Contents",
   "toc_cell": false,
   "toc_position": {
    "height": "615px",
    "left": "283px",
    "top": "171px",
    "width": "218.188px"
   },
   "toc_section_display": true,
   "toc_window_display": false
  }
 },
 "nbformat": 4,
 "nbformat_minor": 4
}
